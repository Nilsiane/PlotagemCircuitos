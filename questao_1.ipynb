{
 "cells": [
  {
   "cell_type": "code",
   "execution_count": 3,
   "id": "1ca8cd1a",
   "metadata": {
    "scrolled": true
   },
   "outputs": [
    {
     "name": "stdout",
     "output_type": "stream",
     "text": [
      "Collecting sympy\n",
      "  Downloading sympy-1.12-py3-none-any.whl (5.7 MB)\n",
      "     ---------------------------------------- 5.7/5.7 MB 11.1 MB/s eta 0:00:00\n",
      "Collecting mpmath>=0.19\n",
      "  Downloading mpmath-1.3.0-py3-none-any.whl (536 kB)\n",
      "     ------------------------------------- 536.2/536.2 kB 11.2 MB/s eta 0:00:00\n",
      "Installing collected packages: mpmath, sympy\n",
      "Successfully installed mpmath-1.3.0 sympy-1.12\n",
      "Note: you may need to restart the kernel to use updated packages.\n"
     ]
    },
    {
     "name": "stderr",
     "output_type": "stream",
     "text": [
      "\n",
      "[notice] A new release of pip available: 22.3.1 -> 23.1.2\n",
      "[notice] To update, run: python.exe -m pip install --upgrade pip\n"
     ]
    }
   ],
   "source": [
    "pip install sympy"
   ]
  },
  {
   "cell_type": "markdown",
   "id": "64558f97",
   "metadata": {},
   "source": [
    "Determine a representação no espaço de estado do circuito.\n",
    "\n",
    "Fizemos manualmente a análise de circuito de modo que chegamos até a representação espaço de estado do circuito, através das equações abaixo:\n",
    "\n",
    "$\\begin{bmatrix} \\dot{x}_1 \\\\ \\dot{x}_2 \\end{bmatrix} = \\begin{bmatrix} 0 & 1 \\\\ -\\frac{1}{L*C} & -\\frac{R}{L} \\end{bmatrix} \\begin{bmatrix} x_1 \\\\ x_2 \\end{bmatrix} + \\begin{bmatrix} 0 \\\\ \\frac{R}{L} \\end{bmatrix}z$\n",
    "\n",
    "\n",
    "y = $\\begin{bmatrix} 0 & 1 \\end{bmatrix}\\begin{bmatrix} x_1 \\\\ x_2 \\end{bmatrix}$\n",
    "\n",
    "\n"
   ]
  },
  {
   "cell_type": "markdown",
   "id": "19463280",
   "metadata": {},
   "source": [
    "1-C Usando a representação no espaço de estado, determine novamente a função\n",
    "de transferência.\n",
    "\n",
    "Para chegar a função de transferencia através da representação de estado, precisamos calcular:\n",
    "\n",
    "$H(s) = {C(sI - A)^{-1}}*{B}$\n"
   ]
  },
  {
   "cell_type": "code",
   "execution_count": 23,
   "id": "2a79629d",
   "metadata": {},
   "outputs": [],
   "source": [
    "import numpy as np\n",
    "import sympy as sp\n",
    "\n",
    "# Definindo as variáveis simbólicas\n",
    "s, L, C, R = sp.symbols('s L C R')\n",
    "\n",
    "# Definindo as matrizes com variáveis\n",
    "A = sp.Matrix([[0, 1],\n",
    "               [-1/(L*C), -R/L]])\n",
    "\n",
    "B = sp.Matrix([[0],\n",
    "               [R/L]])\n",
    "\n",
    "C = sp.Matrix([[0, 1]])\n",
    "\n",
    "# Definindo a matriz identidade\n",
    "I = sp.eye(A.shape[0])\n",
    "\n",
    "# Calculando a matriz (sI - A)\n",
    "sI_minus_A = (s * I) - A\n",
    "\n",
    "# Calculando a matriz inversa (sI - A)^-1\n",
    "inv_sI_minus_A = sI_minus_A.inv()\n",
    "\n",
    "# Calculando H(s)\n",
    "H_s = C * (inv_sI_minus_A * B)\n",
    "\n",
    "# Simplificando a expressão\n",
    "H_s = sp.simplify(H_s)\n"
   ]
  },
  {
   "cell_type": "markdown",
   "id": "bec655fc",
   "metadata": {},
   "source": [
    "O resultado é:"
   ]
  },
  {
   "cell_type": "code",
   "execution_count": 24,
   "id": "0cd32180",
   "metadata": {
    "scrolled": true
   },
   "outputs": [
    {
     "data": {
      "text/latex": [
       "$\\displaystyle \\left[\\begin{matrix}\\frac{C R s}{C L s^{2} + C R s + 1}\\end{matrix}\\right]$"
      ],
      "text/plain": [
       "Matrix([[C*R*s/(C*L*s**2 + C*R*s + 1)]])"
      ]
     },
     "metadata": {},
     "output_type": "display_data"
    }
   ],
   "source": [
    "display(H_s)"
   ]
  },
  {
   "cell_type": "markdown",
   "id": "c18175a1",
   "metadata": {},
   "source": [
    "d) Compare os resultados da função de transferência obtida nas partes (a) e (c).\n",
    "Justifique a sua resposta.\n",
    "\n",
    "Apesar de as equações parecerem diferentes, se simplificarmos a equação resultante do item (c), chegaremos a mesma função obtida no item (a)"
   ]
  },
  {
   "cell_type": "code",
   "execution_count": 25,
   "id": "f9d208e2",
   "metadata": {},
   "outputs": [],
   "source": [
    "# Simplificando a expressão\n",
    "H_s = sp.simplify(H_s)\n",
    "\n",
    "#A função não simplificou o suficiente, então simplificamos manualmente realizando algumas \n",
    "#operações algebricas"
   ]
  }
 ],
 "metadata": {
  "kernelspec": {
   "display_name": "Python 3 (ipykernel)",
   "language": "python",
   "name": "python3"
  },
  "language_info": {
   "codemirror_mode": {
    "name": "ipython",
    "version": 3
   },
   "file_extension": ".py",
   "mimetype": "text/x-python",
   "name": "python",
   "nbconvert_exporter": "python",
   "pygments_lexer": "ipython3",
   "version": "3.11.2"
  }
 },
 "nbformat": 4,
 "nbformat_minor": 5
}
